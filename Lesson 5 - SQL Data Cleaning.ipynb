{
 "cells": [
  {
   "cell_type": "markdown",
   "id": "reduced-wilson",
   "metadata": {},
   "source": [
    "<h1>SQL for Data Analysis</h1>\n",
    "<hr>"
   ]
  },
  {
   "cell_type": "markdown",
   "id": "alike-voice",
   "metadata": {
    "toc": true
   },
   "source": [
    "<h1>Contents<span class=\"tocSkip\"></span></h1>\n",
    "<div class=\"toc\"><ul class=\"toc-item\"><li><span><a href=\"#Data-Cleaning\" data-toc-modified-id=\"Data-Cleaning-1\">Data Cleaning</a></span></li><li><span><a href=\"#LEFT,-RIGHT,-and-LENGTH-Functions\" data-toc-modified-id=\"LEFT,-RIGHT,-and-LENGTH-Functions-2\">LEFT, RIGHT, and LENGTH Functions</a></span><ul class=\"toc-item\"><li><span><a href=\"#Practice-Questions\" data-toc-modified-id=\"Practice-Questions-2.1\">Practice Questions</a></span></li></ul></li><li><span><a href=\"#POSITION,-STRPOS,-LOWER,-and-UPPER-Functions\" data-toc-modified-id=\"POSITION,-STRPOS,-LOWER,-and-UPPER-Functions-3\">POSITION, STRPOS, LOWER, and UPPER Functions</a></span><ul class=\"toc-item\"><li><span><a href=\"#Practice-Questions\" data-toc-modified-id=\"Practice-Questions-3.1\">Practice Questions</a></span></li></ul></li><li><span><a href=\"#CONCAT\" data-toc-modified-id=\"CONCAT-4\">CONCAT</a></span><ul class=\"toc-item\"><li><span><a href=\"#Practice-Questions\" data-toc-modified-id=\"Practice-Questions-4.1\">Practice Questions</a></span></li></ul></li><li><span><a href=\"#TO_DATE-and-CAST-Functions\" data-toc-modified-id=\"TO_DATE-and-CAST-Functions-5\">TO_DATE and CAST Functions</a></span><ul class=\"toc-item\"><li><span><a href=\"#Practice-Question\" data-toc-modified-id=\"Practice-Question-5.1\">Practice Question</a></span></li></ul></li><li><span><a href=\"#COALESCE-Function\" data-toc-modified-id=\"COALESCE-Function-6\">COALESCE Function</a></span></li><li><span><a href=\"#Recap\" data-toc-modified-id=\"Recap-7\">Recap</a></span></li></ul></div>"
   ]
  },
  {
   "cell_type": "markdown",
   "id": "voluntary-leonard",
   "metadata": {},
   "source": [
    "## Data Cleaning"
   ]
  },
  {
   "cell_type": "markdown",
   "id": "peaceful-horse",
   "metadata": {},
   "source": [
    "## LEFT, RIGHT, and LENGTH Functions"
   ]
  },
  {
   "cell_type": "markdown",
   "id": "political-beijing",
   "metadata": {},
   "source": [
    ">**LEFT** pulls a specified number of characters for each row in a specified column starting at the beginning (or from the left).<br><br>\n",
    ">**RIGHT** pulls a specified number of characters for each row in a specified column starting at the end (or from the right).<br><br>\n",
    ">**LENGTH** provides the number of characters for each row of a specified column."
   ]
  },
  {
   "cell_type": "markdown",
   "id": "cleared-shaft",
   "metadata": {},
   "source": [
    "**Example:**\n",
    "```sql\n",
    "SELECT first_name,\n",
    "       last_name,\n",
    "       phone_number,\n",
    "       LEFT(phone_number, 3) AS area_code,\n",
    "       RIGHT(phone_number, 8) AS phone_number_only,\n",
    "       /* Alternate method and to demo use of LENGTH function: */\n",
    "       RIGHT(phone_number, LENGTH(phone_number) - 4) AS phone_number_alt \n",
    "FROM customer_data\n",
    "```"
   ]
  },
  {
   "cell_type": "markdown",
   "id": "nervous-daisy",
   "metadata": {},
   "source": [
    "phone_number | area_code | phone_number_only | phone_number_alt\n",
    ":------------|:----------|:------------------|:----------------\n",
    "399-751-5387 | 399       | 751-5387          | 751-5387"
   ]
  },
  {
   "cell_type": "markdown",
   "id": "consolidated-rotation",
   "metadata": {},
   "source": [
    "### Practice Questions"
   ]
  },
  {
   "cell_type": "markdown",
   "id": "solved-enhancement",
   "metadata": {},
   "source": [
    "1. In the accounts table, there is a column holding the website for each company. The last three digits specify what type of web address they are using. A list of extensions (and pricing) is provided <a href='https://iwantmyname.com/domains/domain-name-registration-list-of-extensions'>here</a>. Pull these extensions and provide how many of each website type exist in the accounts table.\n",
    "```sql\n",
    "SELECT RIGHT(website, 4) AS extension, \n",
    "       COUNT(*) num_of_companies\n",
    "FROM accounts\n",
    "GROUP BY 1\n",
    "ORDER BY 2 DESC;\n",
    "```\n",
    "2. There is much debate about how much the name (or even the first letter of a company name) matters. Use the accounts table to pull the first letter of each company name to see the distribution of company names that begin with each letter (or number).\n",
    "```sql\n",
    "SELECT LEFT(UPPER(name), 1) AS first_letter, COUNT(*) num_companies\n",
    "FROM accounts\n",
    "GROUP BY 1\n",
    "ORDER BY 2 DESC;\n",
    "```\n",
    "3. Use the accounts table and a CASE statement to create two groups: one group of company names that start with a number and a second group of those company names that start with a letter. What proportion of company names start with a letter?\n",
    "```sql\n",
    "WITH t1 AS\n",
    "(SELECT name, \n",
    "       CASE WHEN LEFT(UPPER(name), 1) IN ('0','1','2','3','4','5','6','7','8','9')\n",
    "       THEN 1 ELSE 0 END AS num,\n",
    "       CASE WHEN LEFT(UPPER(name), 1) IN ('0','1','2','3','4','5','6','7','8','9')\n",
    "       THEN 0 ELSE 1 END AS letter\n",
    "FROM accounts)\n",
    "SELECT SUM(num) nums, SUM(letter) letters\n",
    "FROM t1\n",
    "```\n",
    "<i>There are 350 company names that start with a letter and 1 that starts with a number. This gives a ratio of 350/351 that are company names that start with a letter or 99.7%<i/>.\n",
    "\n",
    "    \n",
    "4. Consider vowels as a, e, i, o, and u. What proportion of company names start with a vowel, and what percent start with anything else?\n",
    "```sql\n",
    "WITH t1 AS (\n",
    "SELECT name,\n",
    "       CASE WHEN LEFT(UPPER(name), 1) IN ('A','E','I','O','U')\n",
    "       THEN 1 END AS vowel,\n",
    "       CASE WHEN LEFT(UPPER(name), 1) NOT IN ('A','E','I','O','U')\n",
    "       THEN 1 END AS other\n",
    "FROM accounts)\n",
    "SELECT COUNT(vowel) vowel, COUNT(other) other\n",
    "FROM t1\n",
    "```\n",
    "<i>There are 80 company names that start with a vowel and 271 that start with other characters. Therefore 80/351 are vowels or 22.8%. Therefore, 77.2% of company names do not start with vowels.</i>"
   ]
  },
  {
   "cell_type": "markdown",
   "id": "bottom-atlas",
   "metadata": {},
   "source": [
    "## POSITION, STRPOS, LOWER, and UPPER Functions"
   ]
  },
  {
   "cell_type": "markdown",
   "id": "oriental-marking",
   "metadata": {},
   "source": [
    "> **POSITION** provides the position of a string counting from the left.<br><br>\n",
    "> **STRPOS** also provides the position of a string counting from the left but uses a different syntax.<br><br>\n",
    "> **POSITION** and **STRPOS** are case sensitive.<br><br>\n",
    "> **LOWER** and **UPPER** are used to lowercase or capitalize all characters of a string."
   ]
  },
  {
   "cell_type": "markdown",
   "id": "later-front",
   "metadata": {},
   "source": [
    "**Example:**\n",
    "```sql\n",
    "SELECT first_name,\n",
    "       last_name,\n",
    "       city_state,\n",
    "       POSITION(',' IN city_state) AS comma_position,\n",
    "       STRPOS(city_state, ',') AS substr_comma_position,\n",
    "       LOWER(city_state) AS lowercase,\n",
    "       UPPER(city_state) AS uppercase,\n",
    "       LEFT(city_state, POSITION(',' IN city_state) - 1) AS city\n",
    "FROM customer_data\n",
    "```\n",
    "\n",
    "city_state | comma_position | substr_comma_position | lowercase | uppercase | city\n",
    ":----------|:---------------|:----------------------|:----------|:----------|:----\n",
    "Cincinnati, OH | 11         | 11                    |cincinnati, oh | CINCINNATI, OH | Cincinnati"
   ]
  },
  {
   "cell_type": "markdown",
   "id": "accomplished-essence",
   "metadata": {},
   "source": [
    "### Practice Questions"
   ]
  },
  {
   "cell_type": "markdown",
   "id": "logical-dictionary",
   "metadata": {},
   "source": [
    "1. Use the `accounts` table to create first and last name columns that hold the first and last names for the `primary_poc`. \n",
    "```sql\n",
    "SELECT LEFT(primary_poc, STRPOS(primary_poc, ' ') -1 ) first_name, \n",
    "RIGHT(primary_poc, LENGTH(primary_poc) - STRPOS(primary_poc, ' ')) last_name\n",
    "FROM accounts;\n",
    "```\n",
    "2. Now see if you can do the same thing for every rep `name` in the `sales_reps` table. Again provide **first** and **last** name columns.\n",
    "```sql\n",
    "SELECT LEFT(name, STRPOS(name, ' ') -1 ) first_name, \n",
    "       RIGHT(name, LENGTH(name) - STRPOS(name, ' ')) last_name\n",
    "FROM sales_reps;\n",
    "```"
   ]
  },
  {
   "cell_type": "markdown",
   "id": "fifty-dryer",
   "metadata": {},
   "source": [
    "## CONCAT"
   ]
  },
  {
   "cell_type": "markdown",
   "id": "refined-overview",
   "metadata": {},
   "source": [
    "> **CONCAT** combines values from several columns into one column.<br><br>\n",
    "> Both **CONCAT** and **'||'** can be used to concatenate strings."
   ]
  },
  {
   "cell_type": "markdown",
   "id": "prostate-cisco",
   "metadata": {},
   "source": [
    "**Example:**\n",
    "```sql\n",
    "SELECT first_name,\n",
    "       last_name,\n",
    "       CONCAT(first_name,' ',last_name) AS full_name,\n",
    "       /* Alternative method */\n",
    "       first_name || ' ' || last_name AS full_name_alt\n",
    "FROM customer_data\n",
    "```"
   ]
  },
  {
   "cell_type": "markdown",
   "id": "featured-suffering",
   "metadata": {},
   "source": [
    "### Practice Questions"
   ]
  },
  {
   "cell_type": "markdown",
   "id": "inside-eugene",
   "metadata": {},
   "source": [
    "1. Each company in the `accounts` table wants to create an email address for each `primary_poc`. The email address should be the first name of the primary_poc `.` last name primary_poc `@` company name `.com`.\n",
    "```sql\n",
    "WITH t1 AS (\n",
    " SELECT LEFT(primary_poc, STRPOS(primary_poc, ' ') -1 ) first_name,  \n",
    "     RIGHT(primary_poc, LENGTH(primary_poc) - STRPOS(primary_poc, ' ')) last_name, name\n",
    " FROM accounts)\n",
    "SELECT first_name, last_name, CONCAT(first_name, '.', last_name, '@', name, '.com')\n",
    "FROM t1;\n",
    "```\n",
    "2. You may have noticed that in the previous solution some of the company names include spaces, which will certainly not work in an email address. See if you can create an email address that will work by removing all of the spaces in the `account name`, but otherwise your solution should be just as in question `1`. Some helpful documentation is <a href='https://www.postgresql.org/docs/8.1/static/functions-string.html'>here</a>.\n",
    "```sql\n",
    "WITH t1 AS (\n",
    " SELECT LEFT(primary_poc, STRPOS(primary_poc, ' ') -1 ) first_name,  \n",
    "     RIGHT(primary_poc, LENGTH(primary_poc) - STRPOS(primary_poc, ' ')) last_name, name\n",
    " FROM accounts)\n",
    "SELECT first_name, last_name, CONCAT(first_name, '.', last_name, '@', REPLACE(name, ' ', ''), '.com')\n",
    "FROM  t1;\n",
    "```\n",
    "3. We would also like to create an initial password, which they will change after their first log in. The first password will be the first letter of the `primary_poc`'s first name (lowercase), then the last letter of their first name (lowercase), the first letter of their last name (lowercase), the last letter of their last name (lowercase), the number of letters in their first name, the number of letters in their last name, and then the name of the company they are working with, all capitalized with no spaces.\n",
    "```sql\n",
    "WITH t1 AS (\n",
    " SELECT LEFT(primary_poc, STRPOS(primary_poc, ' ') - 1) first_name,  \n",
    "     RIGHT(primary_poc, LENGTH(primary_poc) - STRPOS(primary_poc, ' ')) last_name, name\n",
    " FROM accounts)\n",
    "SELECT first_name, last_name, CONCAT(first_name, '.', last_name, '@', name, '.com') AS email, LEFT(LOWER(first_name), 1) || RIGHT(LOWER(first_name), 1) || LEFT(LOWER(last_name), 1) || RIGHT(LOWER(last_name), 1) || LENGTH(first_name) || LENGTH(last_name) || REPLACE(UPPER(name), ' ', '') AS password\n",
    "FROM t1;\n",
    "```"
   ]
  },
  {
   "cell_type": "markdown",
   "id": "virgin-daisy",
   "metadata": {},
   "source": [
    "## TO_DATE and CAST Functions"
   ]
  },
  {
   "cell_type": "markdown",
   "id": "nearby-jesus",
   "metadata": {},
   "source": [
    ">Dates in SQL are stored as **YYYY-MM-DD**<br><br>\n",
    ">**DATE_PART('month', TO_DATE(month, 'month'))** is used to change a month name into the number associated with that particular month.\n",
    "\n",
    ">**CAST** allows us to change columns from one data type to another. Both 'CAST' and '::' allow for the converting of one data type to another."
   ]
  },
  {
   "cell_type": "markdown",
   "id": "tender-chambers",
   "metadata": {},
   "source": [
    "**Example:**\n",
    "```sql\n",
    "SELECT *,\n",
    "  DATE_PART('month', TO_DATE(month, 'month')) AS clean_month,\n",
    "  year || '-' || DATE_PART('month', TO_DATE(month, 'month')) || '-' || day AS                   concatenated_date,\n",
    "  CAST(year || '-' || DATE_PART('month', TO_DATE(month, 'month')) || '-' || day AS               date) AS formatted_date,\n",
    "  /* Alternative method to CAST */\n",
    "  (year || '-' || DATE_PART('month', TO_DATE(month, 'month')) || '-' || day)::date AS           formatted_date_alt\n",
    "FROM ad_clicks\n",
    "```\n",
    "\n",
    "month | day | year | clean_month | concatenated_date | formatted_date\n",
    ":-----|:----|:-----|:------------|:------------------|:--------------\n",
    "January | 1 | 2014 | 1           | 2014-1-1          | 2014-01-01\n",
    "\n",
    "<i>Note: some table columns are not shown</i> "
   ]
  },
  {
   "cell_type": "markdown",
   "id": "organizational-indianapolis",
   "metadata": {},
   "source": [
    "**Expert Tip**\n",
    "\n",
    "Most of the functions presented in this lesson are specific to strings. They won’t work with dates, integers or floating-point numbers. However, using any of these functions will automatically change the data to the appropriate type.\n",
    "\n",
    "**LEFT**, **RIGHT**, and **TRIM** are all used to select only certain elements of strings, but using them to select elements of a number or date will treat them as strings for the purpose of the function. Though we didn't cover TRIM in this lesson explicitly, it can be used to remove characters from the beginning and end of a string. This can remove unwanted spaces at the beginning or end of a row that often happen with data being moved from Excel or other storage systems."
   ]
  },
  {
   "cell_type": "markdown",
   "id": "democratic-timothy",
   "metadata": {},
   "source": [
    "### Practice Question"
   ]
  },
  {
   "cell_type": "markdown",
   "id": "thick-gnome",
   "metadata": {},
   "source": [
    "Write a query to change the date into the correct SQL date format. You will need to use at least **SUBSTR** and **CONCAT** to perform this operation. Once you have created a column in the correct format, use either `CAST` or `::` to convert this to a date.\n",
    "```sql\n",
    "SELECT date orig_date, \n",
    "(SUBSTR(date,7,4) || '-' || LEFT(date,2) || '-' || SUBSTR(date,4,2)) concat_date,             (SUBSTR(date,7,4) || '-' || LEFT(date,2) || '-' || SUBSTR(date,4,2))::DATE new_date\n",
    "FROM sf_crime_data;\n",
    "```\n",
    "\n",
    "orig_date | concat_date | new_date\n",
    ":---------|:------------|:--------\n",
    "01/31/2014 08:00:00 AM +0000 |\t2014-01-31 | 2014-01-31T00:00:00.000Z |"
   ]
  },
  {
   "cell_type": "markdown",
   "id": "confidential-typing",
   "metadata": {},
   "source": [
    "## COALESCE Function"
   ]
  },
  {
   "cell_type": "markdown",
   "id": "entertaining-exercise",
   "metadata": {},
   "source": [
    "> Returns the first non-null value passed for each row"
   ]
  },
  {
   "cell_type": "markdown",
   "id": "diverse-criticism",
   "metadata": {},
   "source": [
    "**Example:**\n",
    "```sql\n",
    "SELECT *,\n",
    "  /* Use COALESCE to replace NULL values */\n",
    "  COALESCE(primary_poc, 'no POC') AS primary_poc_modified\n",
    "FROM accounts\n",
    "WHERE primary_poc IS NULL\n",
    "```\n",
    "\n",
    "id | name | primary_poc | primary_poc_modified\n",
    ":--|:-----|:------------|:--------------------\n",
    "1501 | Intel |          | no POC\n",
    "2131 | USAA  |          | no POC\n",
    "\n",
    "This is most valuable when working with a function that treats nulls differently from zero such as a count or an average.\n",
    "```sql\n",
    "SELECT COUNT(primary_poc) AS regular_count,\n",
    "       COUNT(COALESCE(primary_poc, 'no POC')) AS modified_count\n",
    "FROM accounts\n",
    "```\n",
    "\n",
    "regular_count | modified_count\n",
    ":-------------|:--------------\n",
    " 345          | 354\n",
    "\n",
    "\n",
    "<i>Using **COALESCE**, we filled the null values and now get a value in every cell and therefore a higher count</i>."
   ]
  },
  {
   "cell_type": "markdown",
   "id": "demanding-fruit",
   "metadata": {},
   "source": [
    "## Recap"
   ]
  },
  {
   "cell_type": "markdown",
   "id": "regular-completion",
   "metadata": {},
   "source": [
    "There are a few other functions that work similarly. You can read more about those <a href='https://www.w3schools.com/sql/sql_isnull.asp' target='_blank'>here</a>. You can also get a walk through of many of the functions you have seen throughout this lesson <a href='https://mode.com/resources/sql-tutorial/sql-string-functions-for-cleaning' target='_blank'>here</a>."
   ]
  }
 ],
 "metadata": {
  "kernelspec": {
   "display_name": "Python 3",
   "language": "python",
   "name": "python3"
  },
  "language_info": {
   "codemirror_mode": {
    "name": "ipython",
    "version": 3
   },
   "file_extension": ".py",
   "mimetype": "text/x-python",
   "name": "python",
   "nbconvert_exporter": "python",
   "pygments_lexer": "ipython3",
   "version": "3.8.5"
  },
  "toc": {
   "base_numbering": 1,
   "nav_menu": {},
   "number_sections": false,
   "sideBar": false,
   "skip_h1_title": true,
   "title_cell": "Contents",
   "title_sidebar": "Contents",
   "toc_cell": true,
   "toc_position": {},
   "toc_section_display": false,
   "toc_window_display": false
  }
 },
 "nbformat": 4,
 "nbformat_minor": 5
}
